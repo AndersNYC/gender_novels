{
 "cells": [
  {
   "cell_type": "markdown",
   "metadata": {
    "deletable": true,
    "editable": true
   },
   "source": [
    "# Data Visualization with Matplotlib\n",
    "\n",
    "Data visualization is a tool to help researchers identify patterns in data as well as to convey findings to a public audience. Being able to convey data and findings in a universal way can help others learn from it without being as familiar with the data. Keep in mind that visualization concerns not only data but design principles as well.\n",
    "\n",
    "Matplotlib is an open-source Python library for generating data visualizations. With it, developers can generate 2D visualizations in a variety of forms that range from line plots, scatter plots, histograms, bar charts, and more. Because each plot presents data in a different way, it is often useful to try out different types of plots before settling on one that works best for a given data set.\n",
    "\n",
    "## Data Visualization Examples\n",
    "\n",
    "* <a href=\"https://www.economist.com/gallery/2015-03-06/20150307-universities\">American universities*, selectivity and returns (The Economist)</a>\n",
    "* <a href=\"http://benschmidt.org/profGender/\">Gendered Language in Teacher Reviews (Ben Schmidt)</a>\n",
    "* <a href=\"http://blog.quantifyingkissinger.com/category/visualizations/line-and-bar-graphs/\">“Everything on paper will be used against me”: Quantifying Kissinger (Micki Kaufman)</a>\n",
    "* <a href=\"http://www.tobacco-analytics.org/frequencies\">Tobacco Analytics (Stephan Risi, Robert Proctor)</a>\n",
    "* <a href=\"https://caterina.io/bubbleTest/index.html\">Lyrical Mysticism (Lisa Tagliaferri)</a>"
   ]
  },
  {
   "cell_type": "markdown",
   "metadata": {
    "deletable": true,
    "editable": true
   },
   "source": [
    "<img src=\"https://www.economist.com/sites/default/files/imagecache/original-size/20150307_woc368m.png\">"
   ]
  },
  {
   "cell_type": "code",
   "execution_count": null,
   "metadata": {
    "collapsed": true,
    "deletable": true,
    "editable": true
   },
   "outputs": [],
   "source": [
    "import matplotlib.pyplot as plt"
   ]
  },
  {
   "cell_type": "code",
   "execution_count": null,
   "metadata": {
    "collapsed": false,
    "deletable": true,
    "editable": true
   },
   "outputs": [],
   "source": [
    "X = [590, 540, 740, 130, 810, 300, 320, 230, 470, 620, 770, 250]\n",
    "Y = [32, 36, 39, 52, 61, 72, 77, 75, 68, 57, 48, 48]\n",
    "\n",
    "plt.scatter(X, Y)\n",
    "plt.show()"
   ]
  },
  {
   "cell_type": "code",
   "execution_count": null,
   "metadata": {
    "collapsed": false,
    "deletable": true,
    "editable": true,
    "scrolled": true
   },
   "outputs": [],
   "source": [
    "plt.title('Relationship Between Temperature and Iced Coffee Sales')\n",
    "plt.xlabel('Cups of Iced Coffee Sold')\n",
    "plt.ylabel('Temperature in Fahrenheit')\n",
    "\n",
    "X = [590, 540, 740, 130, 810, 300, 320, 230, 470, 620, 770, 250]\n",
    "Y = [32, 36, 39, 52, 61, 72, 77, 75, 68, 57, 48, 48]\n",
    "\n",
    "plt.xlim(0,1000)\n",
    "plt.ylim(0,100)\n",
    "\n",
    "plt.scatter(X, Y)\n",
    "plt.show()"
   ]
  },
  {
   "cell_type": "code",
   "execution_count": null,
   "metadata": {
    "collapsed": false,
    "deletable": true,
    "editable": true,
    "scrolled": true
   },
   "outputs": [],
   "source": [
    "plt.title('Relationship Between Temperature and Iced Coffee Sales')\n",
    "plt.xlabel('Cups of Iced Coffee Sold')\n",
    "plt.ylabel('Temperature in Fahrenheit')\n",
    "\n",
    "plt.scatter(X, Y, s=60, c='red', marker='^')\n",
    "plt.rcParams.update({\"figure.figsize\": (8, 6)})\n",
    "font = {'weight' : 'bold', 'size' : 12}\n",
    "plt.rc('font', **font)\n",
    "\n",
    "X = [590, 540, 740, 130, 810, 300, 320, 230, 470, 620, 770, 250]\n",
    "Y = [32, 36, 39, 52, 61, 72, 77, 75, 68, 57, 48, 48]\n",
    "\n",
    "plt.xlim(0,1000)\n",
    "plt.ylim(0,100)\n",
    "\n",
    "plt.scatter(X, Y)\n",
    "plt.show()"
   ]
  },
  {
   "cell_type": "code",
   "execution_count": null,
   "metadata": {
    "collapsed": false,
    "deletable": true,
    "editable": true
   },
   "outputs": [],
   "source": [
    "import operator\n",
    "\n",
    "\n",
    "def word_freq(word, filename):\n",
    "    doc = {}\n",
    "\n",
    "    for line in open(filename):\n",
    "\n",
    "        # Assume each word is separated by a space\n",
    "        split = line.split(' ')\n",
    "        for entry in split:\n",
    "            if (doc.__contains__(entry)):\n",
    "                doc[entry] = int(doc.get(entry)) + 1\n",
    "            else:\n",
    "                doc[entry] = 1\n",
    "\n",
    "    if (word not in doc):\n",
    "        sys.stderr.write(\"Error: \" + word + \" does not appear in \" + filename)\n",
    "        sys.exit(1)\n",
    "\n",
    "    sorted_doc = (sorted(doc.items(), key=operator.itemgetter(1)))[::-1]\n",
    "    just_the_occur = []\n",
    "    just_the_rank = []\n",
    "    word_rank = 0\n",
    "    word_frequency = 0\n",
    "\n",
    "    entry_num = 1\n",
    "    for entry in sorted_doc:\n",
    "\n",
    "        if (entry[0] == word):\n",
    "            word_rank = entry_num\n",
    "            word_frequency = entry[1]\n",
    "\n",
    "        just_the_rank.append(entry_num)\n",
    "        entry_num += 1\n",
    "        just_the_occur.append(entry[1])\n",
    "\n",
    "    plt.title(\"Word Frequencies in \" + filename)\n",
    "    plt.ylabel(\"Total Number of Occurrences\")\n",
    "    plt.xlabel(\"Rank of word(\\\"\" + word + \"\\\" is rank \" + str(word_rank) + \")\")\n",
    "    plt.loglog(just_the_rank, just_the_occur, basex=10)\n",
    "    plt.scatter(\n",
    "        [word_rank],\n",
    "        [word_frequency],\n",
    "        color=\"orange\",\n",
    "        marker=\"*\",\n",
    "        s=100,\n",
    "        label=word\n",
    "    )\n",
    "    plt.show()"
   ]
  },
  {
   "cell_type": "code",
   "execution_count": null,
   "metadata": {
    "collapsed": false,
    "deletable": true,
    "editable": true
   },
   "outputs": [],
   "source": [
    "word_freq(\"he\", \"../corpora/sample_novels/texts/dickens_twocities.txt\")"
   ]
  },
  {
   "cell_type": "code",
   "execution_count": null,
   "metadata": {
    "collapsed": false,
    "deletable": true,
    "editable": true
   },
   "outputs": [],
   "source": [
    "word_freq(\"she\", \"../corpora/sample_novels/texts/dickens_twocities.txt\")"
   ]
  },
  {
   "cell_type": "code",
   "execution_count": null,
   "metadata": {
    "collapsed": false,
    "deletable": true,
    "editable": true
   },
   "outputs": [],
   "source": [
    "from os import path\n",
    "from wordcloud import WordCloud\n",
    "\n",
    "\n",
    "d = path.dirname('__file__')\n",
    "\n",
    "text = open(path.join(d, '../corpora/sample_novels/texts/eliot_middlemarch.txt')).read()\n",
    "\n",
    "wc = WordCloud(\n",
    "            background_color=\"white\",\n",
    "            max_words=5000,\n",
    "            max_font_size=60,\n",
    "            min_font_size=6,\n",
    "            random_state=80)\n",
    "\n",
    "wc.generate(text)\n",
    "\n",
    "plt.imshow(wc)\n",
    "plt.axis(\"off\")\n",
    "plt.show()"
   ]
  },
  {
   "cell_type": "code",
   "execution_count": null,
   "metadata": {
    "collapsed": false,
    "deletable": true,
    "editable": true
   },
   "outputs": [],
   "source": [
    "import numpy\n",
    "import nltk\n",
    "from nltk.corpus import stopwords\n",
    "from nltk.tokenize import sent_tokenize, word_tokenize\n",
    "\n",
    "\n",
    "allwords = []\n",
    "\n",
    "with open('../corpora/sample_novels/texts/hawthorne_scarlet.txt') as input:\n",
    "    text_lines = input.readlines()\n",
    "\n",
    "for line in text_lines:\n",
    "    words = word_tokenize(line)\n",
    "    for w in words:\n",
    "        w = w.lower()\n",
    "        allwords.append(w)\n",
    "\n",
    "freqdist = nltk.FreqDist(allwords)\n",
    "plt.figure(figsize=(16,5))\n",
    "freqdist.plot(50)"
   ]
  },
  {
   "cell_type": "code",
   "execution_count": null,
   "metadata": {
    "collapsed": false,
    "deletable": true,
    "editable": true
   },
   "outputs": [],
   "source": [
    "allwords = []\n",
    "\n",
    "officialstopwords = stopwords.words('english')\n",
    "additionalstopwords = [u\"\\u0027\", \"’\", \"”\", \"“\", \"'\", \".\", \"'s\", \";\", \"--\",\n",
    "                      \"!\", \"\\\"\", \"``\", \"?\", \",\", \"(\", \")\", \":\", \"1\", \"2\", \"3\",\n",
    "                      \"b\", \"4\", \"5\", \"“i\", \"n't\", \"“you\", \"also\", \"c.\", \"''\"]\n",
    "allstopwords = officialstopwords + additionalstopwords\n",
    "\n",
    "with open('../corpora/sample_novels/texts/hawthorne_scarlet.txt') as input:\n",
    "    text_lines = input.readlines()\n",
    "\n",
    "for line in text_lines:\n",
    "    words = word_tokenize(line)\n",
    "    for w in words:\n",
    "        w = w.lower()\n",
    "        if w not in allstopwords:\n",
    "            allwords.append(w)\n",
    "\n",
    "freqdist = nltk.FreqDist(allwords)\n",
    "plt.figure(figsize=(16,5))\n",
    "freqdist.plot(50)"
   ]
  },
  {
   "cell_type": "markdown",
   "metadata": {
    "deletable": true,
    "editable": true
   },
   "source": [
    "## Resources\n",
    "\n",
    "* <a href=\"https://matplotlib.org/users/index.html\">Matplotlib User's Guide</a>\n",
    "* <a href=\"https://matplotlib.org/gallery/index.html\">Matplotlib Gallery\"</a>\n",
    "* <a href=\"https://www.digitalocean.com/community/tutorials/how-to-plot-data-in-python-3-using-matplotlib\">How To Plot Data in Python 3 Using Matplotlib</a>\n",
    "* <a href=\"https://www.digitalocean.com/community/tutorials/how-to-graph-word-frequency-using-matplotlib-with-python-3\">How To Graph Word Frequency Using Matplotlib with Python 3</a>\n",
    "* <a href=\"https://www.digitalocean.com/community/tutorials/getting-started-with-data-visualization-using-javascript-and-the-d3-library\">Getting Started with Data Visualization Using JavaScript and the D3 Library</a>"
   ]
  }
 ],
 "metadata": {
  "kernelspec": {
   "display_name": "Python 3",
   "language": "python",
   "name": "python3"
  },
  "language_info": {
   "codemirror_mode": {
    "name": "ipython",
    "version": 3
   },
   "file_extension": ".py",
   "mimetype": "text/x-python",
   "name": "python",
   "nbconvert_exporter": "python",
   "pygments_lexer": "ipython3",
   "version": "3.5.2"
  }
 },
 "nbformat": 4,
 "nbformat_minor": 2
}
